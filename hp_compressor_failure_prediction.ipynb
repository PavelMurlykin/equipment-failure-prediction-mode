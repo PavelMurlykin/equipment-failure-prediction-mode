{
 "cells": [
  {
   "cell_type": "markdown",
   "metadata": {},
   "source": [
    "# <center> Модель предсказания отказов компрессора высокого давления"
   ]
  },
  {
   "cell_type": "markdown",
   "metadata": {},
   "source": [
    "## Импорт библиотек"
   ]
  },
  {
   "cell_type": "code",
   "execution_count": 180,
   "metadata": {
    "ExecuteTime": {
     "end_time": "2020-02-25T22:45:02.085002Z",
     "start_time": "2020-02-25T22:45:02.073067Z"
    }
   },
   "outputs": [],
   "source": [
    "import pandas as pd\n",
    "import numpy as np\n",
    "\n",
    "import matplotlib.pyplot as plt\n",
    "import seaborn as sns\n",
    "%matplotlib inline\n",
    "#%pylab inline\n",
    "\n",
    "from sklearn.preprocessing import Imputer\n",
    "from sklearn.preprocessing import StandardScaler\n",
    "from sklearn.model_selection import train_test_split\n",
    "from sklearn.linear_model import LogisticRegression\n",
    "\n",
    "#from sklearn import metrics\n",
    "from sklearn.metrics import precision_recall_curve\n",
    "from sklearn.metrics import average_precision_score\n",
    "from sklearn.metrics import roc_curve\n",
    "from sklearn.metrics import roc_auc_score\n",
    "from sklearn.metrics import auc"
   ]
  },
  {
   "cell_type": "code",
   "execution_count": 212,
   "metadata": {
    "ExecuteTime": {
     "end_time": "2020-02-25T22:56:19.974039Z",
     "start_time": "2020-02-25T22:56:16.537713Z"
    }
   },
   "outputs": [
    {
     "data": {
      "text/html": [
       "<div>\n",
       "<style scoped>\n",
       "    .dataframe tbody tr th:only-of-type {\n",
       "        vertical-align: middle;\n",
       "    }\n",
       "\n",
       "    .dataframe tbody tr th {\n",
       "        vertical-align: top;\n",
       "    }\n",
       "\n",
       "    .dataframe thead th {\n",
       "        text-align: right;\n",
       "    }\n",
       "</style>\n",
       "<table border=\"1\" class=\"dataframe\">\n",
       "  <thead>\n",
       "    <tr style=\"text-align: right;\">\n",
       "      <th></th>\n",
       "      <th>DateTime</th>\n",
       "      <th>B3_P_C5</th>\n",
       "      <th>B3_P_C6</th>\n",
       "      <th>B3_P_inKVD1</th>\n",
       "      <th>B3_P_inKVD2</th>\n",
       "      <th>B3_PDIT561</th>\n",
       "      <th>B3_PDIT571</th>\n",
       "      <th>B3_PIT561</th>\n",
       "      <th>B3_PIT563</th>\n",
       "      <th>B3_PIT571</th>\n",
       "      <th>...</th>\n",
       "      <th>B3_Tg_outKVD2</th>\n",
       "      <th>B3_TIT561</th>\n",
       "      <th>B3_TIT571</th>\n",
       "      <th>B3_E_BCL</th>\n",
       "      <th>B3_E_Cm</th>\n",
       "      <th>B3_E_MCL</th>\n",
       "      <th>B3_E_Ras1</th>\n",
       "      <th>B3_E_Ras2</th>\n",
       "      <th>B3_evNKVD</th>\n",
       "      <th>y</th>\n",
       "    </tr>\n",
       "  </thead>\n",
       "  <tbody>\n",
       "    <tr>\n",
       "      <td>0</td>\n",
       "      <td>2019-05-17 09:20:00</td>\n",
       "      <td>5.168750</td>\n",
       "      <td>13.500001</td>\n",
       "      <td>5.082812</td>\n",
       "      <td>13.240625</td>\n",
       "      <td>26.105747</td>\n",
       "      <td>104.541084</td>\n",
       "      <td>5.106489</td>\n",
       "      <td>13.912589</td>\n",
       "      <td>13.340695</td>\n",
       "      <td>...</td>\n",
       "      <td>108.139999</td>\n",
       "      <td>35.343327</td>\n",
       "      <td>41.644539</td>\n",
       "      <td>0.673587</td>\n",
       "      <td>4.394132</td>\n",
       "      <td>1.696910</td>\n",
       "      <td>2.728573</td>\n",
       "      <td>1.678707</td>\n",
       "      <td>10080.102539</td>\n",
       "      <td>0</td>\n",
       "    </tr>\n",
       "    <tr>\n",
       "      <td>1</td>\n",
       "      <td>2019-05-17 09:30:00</td>\n",
       "      <td>5.159375</td>\n",
       "      <td>13.500001</td>\n",
       "      <td>5.082812</td>\n",
       "      <td>13.240625</td>\n",
       "      <td>26.266880</td>\n",
       "      <td>104.962227</td>\n",
       "      <td>5.090353</td>\n",
       "      <td>13.912589</td>\n",
       "      <td>13.340695</td>\n",
       "      <td>...</td>\n",
       "      <td>108.139999</td>\n",
       "      <td>35.041199</td>\n",
       "      <td>41.598763</td>\n",
       "      <td>0.673587</td>\n",
       "      <td>4.394336</td>\n",
       "      <td>1.697093</td>\n",
       "      <td>2.728573</td>\n",
       "      <td>1.678707</td>\n",
       "      <td>10080.102539</td>\n",
       "      <td>0</td>\n",
       "    </tr>\n",
       "    <tr>\n",
       "      <td>2</td>\n",
       "      <td>2019-05-17 09:40:00</td>\n",
       "      <td>5.148125</td>\n",
       "      <td>13.471874</td>\n",
       "      <td>5.082812</td>\n",
       "      <td>13.214062</td>\n",
       "      <td>26.058136</td>\n",
       "      <td>104.321358</td>\n",
       "      <td>5.074903</td>\n",
       "      <td>13.885215</td>\n",
       "      <td>13.314511</td>\n",
       "      <td>...</td>\n",
       "      <td>108.139999</td>\n",
       "      <td>34.940491</td>\n",
       "      <td>41.642250</td>\n",
       "      <td>0.673815</td>\n",
       "      <td>4.398725</td>\n",
       "      <td>1.699382</td>\n",
       "      <td>2.734113</td>\n",
       "      <td>1.678707</td>\n",
       "      <td>10080.102539</td>\n",
       "      <td>0</td>\n",
       "    </tr>\n",
       "    <tr>\n",
       "      <td>3</td>\n",
       "      <td>2019-05-17 09:50:00</td>\n",
       "      <td>5.136875</td>\n",
       "      <td>13.445312</td>\n",
       "      <td>5.056250</td>\n",
       "      <td>13.187499</td>\n",
       "      <td>25.900665</td>\n",
       "      <td>104.586861</td>\n",
       "      <td>5.074903</td>\n",
       "      <td>13.859031</td>\n",
       "      <td>13.288327</td>\n",
       "      <td>...</td>\n",
       "      <td>108.139999</td>\n",
       "      <td>34.940491</td>\n",
       "      <td>41.740669</td>\n",
       "      <td>0.675830</td>\n",
       "      <td>4.403408</td>\n",
       "      <td>1.699291</td>\n",
       "      <td>2.734113</td>\n",
       "      <td>1.678707</td>\n",
       "      <td>10080.102539</td>\n",
       "      <td>0</td>\n",
       "    </tr>\n",
       "    <tr>\n",
       "      <td>4</td>\n",
       "      <td>2019-05-17 10:00:00</td>\n",
       "      <td>5.148125</td>\n",
       "      <td>13.446875</td>\n",
       "      <td>5.056250</td>\n",
       "      <td>13.187499</td>\n",
       "      <td>26.208286</td>\n",
       "      <td>104.641792</td>\n",
       "      <td>5.074903</td>\n",
       "      <td>13.858436</td>\n",
       "      <td>13.288922</td>\n",
       "      <td>...</td>\n",
       "      <td>108.139999</td>\n",
       "      <td>35.041199</td>\n",
       "      <td>41.939804</td>\n",
       "      <td>0.673815</td>\n",
       "      <td>4.394619</td>\n",
       "      <td>1.697002</td>\n",
       "      <td>2.734113</td>\n",
       "      <td>1.678707</td>\n",
       "      <td>10080.102539</td>\n",
       "      <td>0</td>\n",
       "    </tr>\n",
       "  </tbody>\n",
       "</table>\n",
       "<p>5 rows × 26 columns</p>\n",
       "</div>"
      ],
      "text/plain": [
       "             DateTime   B3_P_C5    B3_P_C6  B3_P_inKVD1  B3_P_inKVD2  \\\n",
       "0 2019-05-17 09:20:00  5.168750  13.500001     5.082812    13.240625   \n",
       "1 2019-05-17 09:30:00  5.159375  13.500001     5.082812    13.240625   \n",
       "2 2019-05-17 09:40:00  5.148125  13.471874     5.082812    13.214062   \n",
       "3 2019-05-17 09:50:00  5.136875  13.445312     5.056250    13.187499   \n",
       "4 2019-05-17 10:00:00  5.148125  13.446875     5.056250    13.187499   \n",
       "\n",
       "   B3_PDIT561  B3_PDIT571  B3_PIT561  B3_PIT563  B3_PIT571  ...  \\\n",
       "0   26.105747  104.541084   5.106489  13.912589  13.340695  ...   \n",
       "1   26.266880  104.962227   5.090353  13.912589  13.340695  ...   \n",
       "2   26.058136  104.321358   5.074903  13.885215  13.314511  ...   \n",
       "3   25.900665  104.586861   5.074903  13.859031  13.288327  ...   \n",
       "4   26.208286  104.641792   5.074903  13.858436  13.288922  ...   \n",
       "\n",
       "   B3_Tg_outKVD2  B3_TIT561  B3_TIT571  B3_E_BCL   B3_E_Cm  B3_E_MCL  \\\n",
       "0     108.139999  35.343327  41.644539  0.673587  4.394132  1.696910   \n",
       "1     108.139999  35.041199  41.598763  0.673587  4.394336  1.697093   \n",
       "2     108.139999  34.940491  41.642250  0.673815  4.398725  1.699382   \n",
       "3     108.139999  34.940491  41.740669  0.675830  4.403408  1.699291   \n",
       "4     108.139999  35.041199  41.939804  0.673815  4.394619  1.697002   \n",
       "\n",
       "   B3_E_Ras1  B3_E_Ras2     B3_evNKVD  y  \n",
       "0   2.728573   1.678707  10080.102539  0  \n",
       "1   2.728573   1.678707  10080.102539  0  \n",
       "2   2.734113   1.678707  10080.102539  0  \n",
       "3   2.734113   1.678707  10080.102539  0  \n",
       "4   2.734113   1.678707  10080.102539  0  \n",
       "\n",
       "[5 rows x 26 columns]"
      ]
     },
     "execution_count": 212,
     "metadata": {},
     "output_type": "execute_result"
    }
   ],
   "source": [
    "data = pd.read_excel(r'KVD.XLSX')\n",
    "data.head()"
   ]
  },
  {
   "cell_type": "markdown",
   "metadata": {},
   "source": [
    "## Общее исследование данных"
   ]
  },
  {
   "cell_type": "code",
   "execution_count": 37,
   "metadata": {
    "ExecuteTime": {
     "end_time": "2020-02-25T18:15:41.108733Z",
     "start_time": "2020-02-25T18:15:41.087923Z"
    }
   },
   "outputs": [
    {
     "name": "stdout",
     "output_type": "stream",
     "text": [
      "<class 'pandas.core.frame.DataFrame'>\n",
      "RangeIndex: 13958 entries, 0 to 13957\n",
      "Data columns (total 26 columns):\n",
      "DateTime         13958 non-null datetime64[ns]\n",
      "B3_P_C5          13955 non-null float64\n",
      "B3_P_C6          13955 non-null float64\n",
      "B3_P_inKVD1      13951 non-null float64\n",
      "B3_P_inKVD2      13955 non-null float64\n",
      "B3_PDIT561       13955 non-null float64\n",
      "B3_PDIT571       13955 non-null float64\n",
      "B3_PIT561        13955 non-null float64\n",
      "B3_PIT563        13955 non-null float64\n",
      "B3_PIT571        13955 non-null float64\n",
      "B3_PIT573        13955 non-null float64\n",
      "B3_T_C5          13955 non-null float64\n",
      "B3_T_C6          13955 non-null float64\n",
      "B3_Tg_inKVD1     13955 non-null float64\n",
      "B3_Tg_inKVD2     13955 non-null float64\n",
      "B3_Tg_outKVD1    13955 non-null float64\n",
      "B3_Tg_outKVD2    13955 non-null float64\n",
      "B3_TIT561        13955 non-null float64\n",
      "B3_TIT571        13955 non-null float64\n",
      "B3_E_BCL         13955 non-null float64\n",
      "B3_E_Cm          13955 non-null float64\n",
      "B3_E_MCL         13955 non-null float64\n",
      "B3_E_Ras1        13955 non-null float64\n",
      "B3_E_Ras2        13955 non-null float64\n",
      "B3_evNKVD        13955 non-null float64\n",
      "y                13958 non-null int64\n",
      "dtypes: datetime64[ns](1), float64(24), int64(1)\n",
      "memory usage: 2.8 MB\n"
     ]
    }
   ],
   "source": [
    "data.info()"
   ]
  },
  {
   "cell_type": "code",
   "execution_count": 4,
   "metadata": {
    "ExecuteTime": {
     "end_time": "2020-02-25T16:55:47.163448Z",
     "start_time": "2020-02-25T16:55:47.067535Z"
    }
   },
   "outputs": [
    {
     "data": {
      "text/html": [
       "<div>\n",
       "<style scoped>\n",
       "    .dataframe tbody tr th:only-of-type {\n",
       "        vertical-align: middle;\n",
       "    }\n",
       "\n",
       "    .dataframe tbody tr th {\n",
       "        vertical-align: top;\n",
       "    }\n",
       "\n",
       "    .dataframe thead th {\n",
       "        text-align: right;\n",
       "    }\n",
       "</style>\n",
       "<table border=\"1\" class=\"dataframe\">\n",
       "  <thead>\n",
       "    <tr style=\"text-align: right;\">\n",
       "      <th></th>\n",
       "      <th>B3_P_C5</th>\n",
       "      <th>B3_P_C6</th>\n",
       "      <th>B3_P_inKVD1</th>\n",
       "      <th>B3_P_inKVD2</th>\n",
       "      <th>B3_PDIT561</th>\n",
       "      <th>B3_PDIT571</th>\n",
       "      <th>B3_PIT561</th>\n",
       "      <th>B3_PIT563</th>\n",
       "      <th>B3_PIT571</th>\n",
       "      <th>B3_PIT573</th>\n",
       "      <th>...</th>\n",
       "      <th>B3_Tg_outKVD2</th>\n",
       "      <th>B3_TIT561</th>\n",
       "      <th>B3_TIT571</th>\n",
       "      <th>B3_E_BCL</th>\n",
       "      <th>B3_E_Cm</th>\n",
       "      <th>B3_E_MCL</th>\n",
       "      <th>B3_E_Ras1</th>\n",
       "      <th>B3_E_Ras2</th>\n",
       "      <th>B3_evNKVD</th>\n",
       "      <th>y</th>\n",
       "    </tr>\n",
       "  </thead>\n",
       "  <tbody>\n",
       "    <tr>\n",
       "      <td>count</td>\n",
       "      <td>13955.000000</td>\n",
       "      <td>13955.000000</td>\n",
       "      <td>13951.000000</td>\n",
       "      <td>13955.000000</td>\n",
       "      <td>13955.000000</td>\n",
       "      <td>13955.000000</td>\n",
       "      <td>13955.000000</td>\n",
       "      <td>13955.000000</td>\n",
       "      <td>13955.000000</td>\n",
       "      <td>13955.000000</td>\n",
       "      <td>...</td>\n",
       "      <td>13955.000000</td>\n",
       "      <td>13955.000000</td>\n",
       "      <td>13955.000000</td>\n",
       "      <td>13955.000000</td>\n",
       "      <td>13955.000000</td>\n",
       "      <td>13955.000000</td>\n",
       "      <td>13955.000000</td>\n",
       "      <td>13955.000000</td>\n",
       "      <td>13955.000000</td>\n",
       "      <td>13958.000000</td>\n",
       "    </tr>\n",
       "    <tr>\n",
       "      <td>mean</td>\n",
       "      <td>5.323898</td>\n",
       "      <td>14.039342</td>\n",
       "      <td>5.226354</td>\n",
       "      <td>13.815826</td>\n",
       "      <td>31.678404</td>\n",
       "      <td>104.633832</td>\n",
       "      <td>5.248177</td>\n",
       "      <td>14.423204</td>\n",
       "      <td>13.921211</td>\n",
       "      <td>25.204768</td>\n",
       "      <td>...</td>\n",
       "      <td>104.909567</td>\n",
       "      <td>31.575105</td>\n",
       "      <td>28.629974</td>\n",
       "      <td>0.802719</td>\n",
       "      <td>4.802717</td>\n",
       "      <td>1.715054</td>\n",
       "      <td>2.748148</td>\n",
       "      <td>1.808568</td>\n",
       "      <td>9929.570477</td>\n",
       "      <td>0.025075</td>\n",
       "    </tr>\n",
       "    <tr>\n",
       "      <td>std</td>\n",
       "      <td>0.064942</td>\n",
       "      <td>0.703086</td>\n",
       "      <td>0.061968</td>\n",
       "      <td>0.678627</td>\n",
       "      <td>3.192738</td>\n",
       "      <td>12.838785</td>\n",
       "      <td>0.064652</td>\n",
       "      <td>0.672769</td>\n",
       "      <td>0.683766</td>\n",
       "      <td>1.838717</td>\n",
       "      <td>...</td>\n",
       "      <td>5.442119</td>\n",
       "      <td>10.129655</td>\n",
       "      <td>7.191234</td>\n",
       "      <td>0.074379</td>\n",
       "      <td>0.343508</td>\n",
       "      <td>0.118338</td>\n",
       "      <td>0.120577</td>\n",
       "      <td>0.074821</td>\n",
       "      <td>163.214755</td>\n",
       "      <td>0.156359</td>\n",
       "    </tr>\n",
       "    <tr>\n",
       "      <td>min</td>\n",
       "      <td>5.053750</td>\n",
       "      <td>7.142188</td>\n",
       "      <td>4.946875</td>\n",
       "      <td>6.974999</td>\n",
       "      <td>19.880066</td>\n",
       "      <td>72.387276</td>\n",
       "      <td>4.967441</td>\n",
       "      <td>7.670566</td>\n",
       "      <td>7.052850</td>\n",
       "      <td>9.180190</td>\n",
       "      <td>...</td>\n",
       "      <td>72.489998</td>\n",
       "      <td>6.139849</td>\n",
       "      <td>10.294117</td>\n",
       "      <td>0.183864</td>\n",
       "      <td>1.786967</td>\n",
       "      <td>0.481804</td>\n",
       "      <td>1.493082</td>\n",
       "      <td>1.184330</td>\n",
       "      <td>8435.300781</td>\n",
       "      <td>0.000000</td>\n",
       "    </tr>\n",
       "    <tr>\n",
       "      <td>25%</td>\n",
       "      <td>5.273750</td>\n",
       "      <td>13.798438</td>\n",
       "      <td>5.181250</td>\n",
       "      <td>13.585938</td>\n",
       "      <td>29.255209</td>\n",
       "      <td>93.865875</td>\n",
       "      <td>5.197471</td>\n",
       "      <td>14.186931</td>\n",
       "      <td>13.670382</td>\n",
       "      <td>24.697871</td>\n",
       "      <td>...</td>\n",
       "      <td>102.410004</td>\n",
       "      <td>26.264591</td>\n",
       "      <td>23.080795</td>\n",
       "      <td>0.794392</td>\n",
       "      <td>4.713647</td>\n",
       "      <td>1.687480</td>\n",
       "      <td>2.719898</td>\n",
       "      <td>1.800132</td>\n",
       "      <td>9838.818359</td>\n",
       "      <td>0.000000</td>\n",
       "    </tr>\n",
       "    <tr>\n",
       "      <td>50%</td>\n",
       "      <td>5.338750</td>\n",
       "      <td>14.160937</td>\n",
       "      <td>5.240625</td>\n",
       "      <td>13.931251</td>\n",
       "      <td>31.445183</td>\n",
       "      <td>104.669258</td>\n",
       "      <td>5.265793</td>\n",
       "      <td>14.523758</td>\n",
       "      <td>14.031013</td>\n",
       "      <td>25.611525</td>\n",
       "      <td>...</td>\n",
       "      <td>104.839996</td>\n",
       "      <td>31.090637</td>\n",
       "      <td>27.018768</td>\n",
       "      <td>0.819890</td>\n",
       "      <td>4.918274</td>\n",
       "      <td>1.730144</td>\n",
       "      <td>2.763374</td>\n",
       "      <td>1.826215</td>\n",
       "      <td>9986.375000</td>\n",
       "      <td>0.000000</td>\n",
       "    </tr>\n",
       "    <tr>\n",
       "      <td>75%</td>\n",
       "      <td>5.362500</td>\n",
       "      <td>14.514062</td>\n",
       "      <td>5.267187</td>\n",
       "      <td>14.267187</td>\n",
       "      <td>33.609524</td>\n",
       "      <td>113.847565</td>\n",
       "      <td>5.290856</td>\n",
       "      <td>14.876655</td>\n",
       "      <td>14.381530</td>\n",
       "      <td>26.250000</td>\n",
       "      <td>...</td>\n",
       "      <td>108.480003</td>\n",
       "      <td>34.211491</td>\n",
       "      <td>33.429848</td>\n",
       "      <td>0.844060</td>\n",
       "      <td>4.992021</td>\n",
       "      <td>1.783703</td>\n",
       "      <td>2.817961</td>\n",
       "      <td>1.850003</td>\n",
       "      <td>10050.109375</td>\n",
       "      <td>0.000000</td>\n",
       "    </tr>\n",
       "    <tr>\n",
       "      <td>max</td>\n",
       "      <td>6.006250</td>\n",
       "      <td>15.390626</td>\n",
       "      <td>5.662500</td>\n",
       "      <td>15.048437</td>\n",
       "      <td>53.747768</td>\n",
       "      <td>180.503555</td>\n",
       "      <td>5.673666</td>\n",
       "      <td>15.155162</td>\n",
       "      <td>15.205745</td>\n",
       "      <td>27.092756</td>\n",
       "      <td>...</td>\n",
       "      <td>116.099998</td>\n",
       "      <td>118.540863</td>\n",
       "      <td>111.221100</td>\n",
       "      <td>0.943626</td>\n",
       "      <td>5.181017</td>\n",
       "      <td>1.864271</td>\n",
       "      <td>2.903966</td>\n",
       "      <td>1.953301</td>\n",
       "      <td>10104.472656</td>\n",
       "      <td>1.000000</td>\n",
       "    </tr>\n",
       "  </tbody>\n",
       "</table>\n",
       "<p>8 rows × 25 columns</p>\n",
       "</div>"
      ],
      "text/plain": [
       "            B3_P_C5       B3_P_C6   B3_P_inKVD1   B3_P_inKVD2    B3_PDIT561  \\\n",
       "count  13955.000000  13955.000000  13951.000000  13955.000000  13955.000000   \n",
       "mean       5.323898     14.039342      5.226354     13.815826     31.678404   \n",
       "std        0.064942      0.703086      0.061968      0.678627      3.192738   \n",
       "min        5.053750      7.142188      4.946875      6.974999     19.880066   \n",
       "25%        5.273750     13.798438      5.181250     13.585938     29.255209   \n",
       "50%        5.338750     14.160937      5.240625     13.931251     31.445183   \n",
       "75%        5.362500     14.514062      5.267187     14.267187     33.609524   \n",
       "max        6.006250     15.390626      5.662500     15.048437     53.747768   \n",
       "\n",
       "         B3_PDIT571     B3_PIT561     B3_PIT563     B3_PIT571     B3_PIT573  \\\n",
       "count  13955.000000  13955.000000  13955.000000  13955.000000  13955.000000   \n",
       "mean     104.633832      5.248177     14.423204     13.921211     25.204768   \n",
       "std       12.838785      0.064652      0.672769      0.683766      1.838717   \n",
       "min       72.387276      4.967441      7.670566      7.052850      9.180190   \n",
       "25%       93.865875      5.197471     14.186931     13.670382     24.697871   \n",
       "50%      104.669258      5.265793     14.523758     14.031013     25.611525   \n",
       "75%      113.847565      5.290856     14.876655     14.381530     26.250000   \n",
       "max      180.503555      5.673666     15.155162     15.205745     27.092756   \n",
       "\n",
       "       ...  B3_Tg_outKVD2     B3_TIT561     B3_TIT571      B3_E_BCL  \\\n",
       "count  ...   13955.000000  13955.000000  13955.000000  13955.000000   \n",
       "mean   ...     104.909567     31.575105     28.629974      0.802719   \n",
       "std    ...       5.442119     10.129655      7.191234      0.074379   \n",
       "min    ...      72.489998      6.139849     10.294117      0.183864   \n",
       "25%    ...     102.410004     26.264591     23.080795      0.794392   \n",
       "50%    ...     104.839996     31.090637     27.018768      0.819890   \n",
       "75%    ...     108.480003     34.211491     33.429848      0.844060   \n",
       "max    ...     116.099998    118.540863    111.221100      0.943626   \n",
       "\n",
       "            B3_E_Cm      B3_E_MCL     B3_E_Ras1     B3_E_Ras2     B3_evNKVD  \\\n",
       "count  13955.000000  13955.000000  13955.000000  13955.000000  13955.000000   \n",
       "mean       4.802717      1.715054      2.748148      1.808568   9929.570477   \n",
       "std        0.343508      0.118338      0.120577      0.074821    163.214755   \n",
       "min        1.786967      0.481804      1.493082      1.184330   8435.300781   \n",
       "25%        4.713647      1.687480      2.719898      1.800132   9838.818359   \n",
       "50%        4.918274      1.730144      2.763374      1.826215   9986.375000   \n",
       "75%        4.992021      1.783703      2.817961      1.850003  10050.109375   \n",
       "max        5.181017      1.864271      2.903966      1.953301  10104.472656   \n",
       "\n",
       "                  y  \n",
       "count  13958.000000  \n",
       "mean       0.025075  \n",
       "std        0.156359  \n",
       "min        0.000000  \n",
       "25%        0.000000  \n",
       "50%        0.000000  \n",
       "75%        0.000000  \n",
       "max        1.000000  \n",
       "\n",
       "[8 rows x 25 columns]"
      ]
     },
     "execution_count": 4,
     "metadata": {},
     "output_type": "execute_result"
    }
   ],
   "source": [
    "data.describe()"
   ]
  },
  {
   "cell_type": "code",
   "execution_count": 5,
   "metadata": {
    "ExecuteTime": {
     "end_time": "2020-02-25T16:55:47.171397Z",
     "start_time": "2020-02-25T16:55:47.163448Z"
    }
   },
   "outputs": [
    {
     "data": {
      "text/plain": [
       "(13958, 26)"
      ]
     },
     "execution_count": 5,
     "metadata": {},
     "output_type": "execute_result"
    }
   ],
   "source": [
    "data.shape"
   ]
  },
  {
   "cell_type": "code",
   "execution_count": 6,
   "metadata": {
    "ExecuteTime": {
     "end_time": "2020-02-25T16:55:47.183380Z",
     "start_time": "2020-02-25T16:55:47.171397Z"
    }
   },
   "outputs": [
    {
     "data": {
      "text/plain": [
       "0    13608\n",
       "1      350\n",
       "Name: y, dtype: int64"
      ]
     },
     "execution_count": 6,
     "metadata": {},
     "output_type": "execute_result"
    }
   ],
   "source": [
    "#Распределение значениц в столбце показателе отказов\n",
    "data['y'].value_counts()"
   ]
  },
  {
   "cell_type": "code",
   "execution_count": 7,
   "metadata": {
    "ExecuteTime": {
     "end_time": "2020-02-25T16:55:47.187376Z",
     "start_time": "2020-02-25T16:55:47.183380Z"
    }
   },
   "outputs": [],
   "source": [
    "#seaborn pair plot - посмотреть корреляцию параметров относительно отказов"
   ]
  },
  {
   "cell_type": "markdown",
   "metadata": {},
   "source": [
    "## Feature engineering"
   ]
  },
  {
   "cell_type": "markdown",
   "metadata": {},
   "source": [
    "### Заполнение пропусков в числовых данных"
   ]
  },
  {
   "cell_type": "code",
   "execution_count": 160,
   "metadata": {
    "ExecuteTime": {
     "end_time": "2020-02-25T22:10:55.024999Z",
     "start_time": "2020-02-25T22:10:55.009021Z"
    },
    "scrolled": true
   },
   "outputs": [
    {
     "data": {
      "text/plain": [
       "Index(['DateTime', 'B3_P_C5', 'B3_P_C6', 'B3_P_inKVD1', 'B3_P_inKVD2',\n",
       "       'B3_PDIT561', 'B3_PDIT571', 'B3_PIT561', 'B3_PIT563', 'B3_PIT571',\n",
       "       'B3_PIT573', 'B3_T_C5', 'B3_T_C6', 'B3_Tg_inKVD1', 'B3_Tg_inKVD2',\n",
       "       'B3_Tg_outKVD1', 'B3_Tg_outKVD2', 'B3_TIT561', 'B3_TIT571', 'B3_E_BCL',\n",
       "       'B3_E_Cm', 'B3_E_MCL', 'B3_E_Ras1', 'B3_E_Ras2', 'B3_evNKVD', 'y'],\n",
       "      dtype='object')"
      ]
     },
     "execution_count": 160,
     "metadata": {},
     "output_type": "execute_result"
    }
   ],
   "source": [
    "data.columns"
   ]
  },
  {
   "cell_type": "code",
   "execution_count": 213,
   "metadata": {
    "ExecuteTime": {
     "end_time": "2020-02-25T22:56:49.648738Z",
     "start_time": "2020-02-25T22:56:49.457697Z"
    }
   },
   "outputs": [],
   "source": [
    "#Расчет медиан для каждого атрибута по группам в зависимости от целевого столбца\n",
    "\n",
    "not_features = ['DateTime', 'y'] #Столбцы, не являющиеся атрибутами\n",
    "#median_values = pd.DataFrame(columns = ['col', 'median_y0', 'median_y1'])\n",
    "\n",
    "for col in data.loc[:, ~data.columns.isin(not_features)].columns:\n",
    "    median_y0 = data[col].loc[~pd.isnull(data[col])].loc[data['y']==0].median()\n",
    "    median_y1 = data[col].loc[~pd.isnull(data[col])].loc[data['y']==1].median()\n",
    "    \n",
    "    '''\n",
    "    median_values = median_values.append(pd.DataFrame([[col, median_y0, median_y1]],\n",
    "                                                        columns = ['col', 'median_y0', 'median_y1']),\n",
    "                                                        ignore_index=True)\n",
    "    '''\n",
    "    \n",
    "    #замена пустого значения на медиану\n",
    "    #data[col].fillna(median_y0, inplace=True) #нельзя применить условие, не подходит\n",
    "    data.loc[(pd.isnull(data[col])) & (data['y']==0), col] = median_y0\n",
    "    data.loc[(pd.isnull(data[col])) & (data['y']==1), col] = median_y1\n",
    "\n",
    "#median_values"
   ]
  },
  {
   "cell_type": "markdown",
   "metadata": {
    "ExecuteTime": {
     "end_time": "2020-02-25T22:09:44.914085Z",
     "start_time": "2020-02-25T22:09:44.905803Z"
    }
   },
   "source": [
    "### Разделение на обучающую и тестовую выборки"
   ]
  },
  {
   "cell_type": "code",
   "execution_count": 214,
   "metadata": {
    "ExecuteTime": {
     "end_time": "2020-02-25T22:56:55.246159Z",
     "start_time": "2020-02-25T22:56:55.232197Z"
    }
   },
   "outputs": [],
   "source": [
    "feature_list = data.loc[:, ~data.columns.isin(not_features)]\n",
    "target = data['y']\n",
    "\n",
    "X_train, X_test, Y_train, Y_test = train_test_split(feature_list, target, test_size=0.3, random_state=None)"
   ]
  },
  {
   "cell_type": "code",
   "execution_count": 215,
   "metadata": {
    "ExecuteTime": {
     "end_time": "2020-02-25T22:56:56.201172Z",
     "start_time": "2020-02-25T22:56:56.197899Z"
    }
   },
   "outputs": [],
   "source": [
    "columns = X_train.columns"
   ]
  },
  {
   "cell_type": "markdown",
   "metadata": {},
   "source": [
    "### Заполнение пропусков в числовых данных"
   ]
  },
  {
   "cell_type": "code",
   "execution_count": 182,
   "metadata": {
    "ExecuteTime": {
     "end_time": "2020-02-25T22:46:09.524213Z",
     "start_time": "2020-02-25T22:46:09.518227Z"
    }
   },
   "outputs": [
    {
     "name": "stderr",
     "output_type": "stream",
     "text": [
      "C:\\ProgramData\\Anaconda3\\lib\\site-packages\\sklearn\\utils\\deprecation.py:66: DeprecationWarning: Class Imputer is deprecated; Imputer was deprecated in version 0.20 and will be removed in 0.22. Import impute.SimpleImputer from sklearn instead.\n",
      "  warnings.warn(msg, category=DeprecationWarning)\n"
     ]
    }
   ],
   "source": [
    "imputer = Imputer(missing_values='NaN', strategy='median', axis=0, verbose=0, copy=True)"
   ]
  },
  {
   "cell_type": "code",
   "execution_count": 184,
   "metadata": {
    "ExecuteTime": {
     "end_time": "2020-02-25T22:46:46.067136Z",
     "start_time": "2020-02-25T22:46:46.038159Z"
    }
   },
   "outputs": [
    {
     "data": {
      "text/plain": [
       "Imputer(axis=0, copy=True, missing_values='NaN', strategy='median', verbose=0)"
      ]
     },
     "execution_count": 184,
     "metadata": {},
     "output_type": "execute_result"
    }
   ],
   "source": [
    "imputer.fit(X_train)"
   ]
  },
  {
   "cell_type": "code",
   "execution_count": 187,
   "metadata": {
    "ExecuteTime": {
     "end_time": "2020-02-25T22:47:40.272128Z",
     "start_time": "2020-02-25T22:47:40.261646Z"
    }
   },
   "outputs": [],
   "source": [
    "X_train_imputed = imputer.transform(X_train)\n",
    "X_train_imputed = pd.DataFrame(X_train_imputed, columns=columns)"
   ]
  },
  {
   "cell_type": "markdown",
   "metadata": {
    "ExecuteTime": {
     "end_time": "2020-02-25T19:09:48.083321Z",
     "start_time": "2020-02-25T19:09:48.070824Z"
    }
   },
   "source": [
    "### Нормирование значений атрибутов"
   ]
  },
  {
   "cell_type": "code",
   "execution_count": 216,
   "metadata": {
    "ExecuteTime": {
     "end_time": "2020-02-25T22:57:13.242038Z",
     "start_time": "2020-02-25T22:57:13.237086Z"
    }
   },
   "outputs": [],
   "source": [
    "scaler = StandardScaler()"
   ]
  },
  {
   "cell_type": "code",
   "execution_count": 191,
   "metadata": {
    "ExecuteTime": {
     "end_time": "2020-02-25T22:49:24.232457Z",
     "start_time": "2020-02-25T22:49:24.219404Z"
    }
   },
   "outputs": [
    {
     "data": {
      "text/plain": [
       "StandardScaler(copy=True, with_mean=True, with_std=True)"
      ]
     },
     "execution_count": 191,
     "metadata": {},
     "output_type": "execute_result"
    }
   ],
   "source": [
    "scaler.fit(X_train_imputed)"
   ]
  },
  {
   "cell_type": "code",
   "execution_count": 192,
   "metadata": {
    "ExecuteTime": {
     "end_time": "2020-02-25T22:49:37.945571Z",
     "start_time": "2020-02-25T22:49:37.937615Z"
    }
   },
   "outputs": [],
   "source": [
    "X_train_imputed_scaled = scaler.transform(X_train_imputed)\n",
    "X_train_imputed_scaled = pd.DataFrame(X_train_imputed_scaled, columns=columns)"
   ]
  },
  {
   "cell_type": "code",
   "execution_count": 194,
   "metadata": {
    "ExecuteTime": {
     "end_time": "2020-02-25T22:50:12.951941Z",
     "start_time": "2020-02-25T22:50:12.932441Z"
    }
   },
   "outputs": [],
   "source": [
    "X_test_imputed_scaled = scaler.transform(imputer.transform(X_test))"
   ]
  },
  {
   "cell_type": "code",
   "execution_count": 198,
   "metadata": {
    "ExecuteTime": {
     "end_time": "2020-02-25T22:53:08.136784Z",
     "start_time": "2020-02-25T22:53:08.131797Z"
    }
   },
   "outputs": [],
   "source": [
    "X_train = X_train_imputed_scaled\n",
    "X_test = X_test_imputed_scaled"
   ]
  },
  {
   "cell_type": "code",
   "execution_count": null,
   "metadata": {},
   "outputs": [],
   "source": [
    "#проба без автозаполнения пропусков"
   ]
  },
  {
   "cell_type": "code",
   "execution_count": 217,
   "metadata": {
    "ExecuteTime": {
     "end_time": "2020-02-25T22:57:37.674672Z",
     "start_time": "2020-02-25T22:57:37.660281Z"
    }
   },
   "outputs": [
    {
     "data": {
      "text/plain": [
       "StandardScaler(copy=True, with_mean=True, with_std=True)"
      ]
     },
     "execution_count": 217,
     "metadata": {},
     "output_type": "execute_result"
    }
   ],
   "source": [
    "scaler.fit(X_train)"
   ]
  },
  {
   "cell_type": "code",
   "execution_count": 218,
   "metadata": {
    "ExecuteTime": {
     "end_time": "2020-02-25T22:58:02.859738Z",
     "start_time": "2020-02-25T22:58:02.851242Z"
    }
   },
   "outputs": [],
   "source": [
    "X_train_imputed_scaled = scaler.transform(X_train)\n",
    "X_train_imputed_scaled = pd.DataFrame(X_train_imputed_scaled, columns=columns)"
   ]
  },
  {
   "cell_type": "code",
   "execution_count": 219,
   "metadata": {
    "ExecuteTime": {
     "end_time": "2020-02-25T22:58:31.737181Z",
     "start_time": "2020-02-25T22:58:31.731239Z"
    }
   },
   "outputs": [],
   "source": [
    "X_test_imputed_scaled = scaler.transform(X_test)"
   ]
  },
  {
   "cell_type": "code",
   "execution_count": 220,
   "metadata": {
    "ExecuteTime": {
     "end_time": "2020-02-25T22:58:36.791792Z",
     "start_time": "2020-02-25T22:58:36.785854Z"
    }
   },
   "outputs": [],
   "source": [
    "X_train = X_train_imputed_scaled\n",
    "X_test = X_test_imputed_scaled"
   ]
  },
  {
   "cell_type": "code",
   "execution_count": null,
   "metadata": {},
   "outputs": [],
   "source": []
  },
  {
   "cell_type": "code",
   "execution_count": null,
   "metadata": {},
   "outputs": [],
   "source": []
  },
  {
   "cell_type": "markdown",
   "metadata": {},
   "source": [
    "## Обучение модели"
   ]
  },
  {
   "cell_type": "code",
   "execution_count": 221,
   "metadata": {
    "ExecuteTime": {
     "end_time": "2020-02-25T22:59:25.587466Z",
     "start_time": "2020-02-25T22:59:25.472998Z"
    }
   },
   "outputs": [
    {
     "name": "stderr",
     "output_type": "stream",
     "text": [
      "C:\\ProgramData\\Anaconda3\\lib\\site-packages\\sklearn\\linear_model\\logistic.py:432: FutureWarning: Default solver will be changed to 'lbfgs' in 0.22. Specify a solver to silence this warning.\n",
      "  FutureWarning)\n"
     ]
    },
    {
     "data": {
      "text/plain": [
       "LogisticRegression(C=1.0, class_weight=None, dual=False, fit_intercept=True,\n",
       "                   intercept_scaling=1, l1_ratio=None, max_iter=100,\n",
       "                   multi_class='warn', n_jobs=None, penalty='l2',\n",
       "                   random_state=None, solver='warn', tol=0.0001, verbose=0,\n",
       "                   warm_start=False)"
      ]
     },
     "execution_count": 221,
     "metadata": {},
     "output_type": "execute_result"
    }
   ],
   "source": [
    "model = LogisticRegression()\n",
    "model.fit(X_train, Y_train)"
   ]
  },
  {
   "cell_type": "markdown",
   "metadata": {},
   "source": [
    "## Предсказание"
   ]
  },
  {
   "cell_type": "code",
   "execution_count": 222,
   "metadata": {
    "ExecuteTime": {
     "end_time": "2020-02-25T22:59:30.859382Z",
     "start_time": "2020-02-25T22:59:30.850445Z"
    }
   },
   "outputs": [
    {
     "data": {
      "text/plain": [
       "0.9757420675537359"
      ]
     },
     "execution_count": 222,
     "metadata": {},
     "output_type": "execute_result"
    }
   ],
   "source": [
    "model.score(X_train, Y_train)"
   ]
  },
  {
   "cell_type": "code",
   "execution_count": 223,
   "metadata": {
    "ExecuteTime": {
     "end_time": "2020-02-25T22:59:33.219452Z",
     "start_time": "2020-02-25T22:59:33.211432Z"
    }
   },
   "outputs": [
    {
     "data": {
      "text/plain": [
       "0.9737344794651385"
      ]
     },
     "execution_count": 223,
     "metadata": {},
     "output_type": "execute_result"
    }
   ],
   "source": [
    "model.score(X_test, Y_test)"
   ]
  },
  {
   "cell_type": "markdown",
   "metadata": {
    "ExecuteTime": {
     "end_time": "2020-02-25T13:33:05.832369Z",
     "start_time": "2020-02-25T13:33:05.828701Z"
    }
   },
   "source": [
    "## Оценка качества модели"
   ]
  },
  {
   "cell_type": "code",
   "execution_count": 224,
   "metadata": {
    "ExecuteTime": {
     "end_time": "2020-02-25T22:59:39.048957Z",
     "start_time": "2020-02-25T22:59:39.041985Z"
    }
   },
   "outputs": [],
   "source": [
    "predictions = model.predict_proba(X_test)"
   ]
  },
  {
   "cell_type": "code",
   "execution_count": 225,
   "metadata": {
    "ExecuteTime": {
     "end_time": "2020-02-25T22:59:45.099000Z",
     "start_time": "2020-02-25T22:59:45.088523Z"
    }
   },
   "outputs": [],
   "source": [
    "tp = 0 # True positive\n",
    "fp = 0 # False positive\n",
    "fn = 0 # False negative\n",
    "tn = 0 # True negative\n",
    "\n",
    "predictions = model.predict_proba(X_test)\n",
    "for predicted_prob, actual in zip(predictions[:, 1], Y_test):\n",
    "    if predicted_prob > 0.5:\n",
    "        predicted = 1\n",
    "    else:\n",
    "        predicted = 0\n",
    "        \n",
    "    if predicted == 1:\n",
    "        if actual == 1:\n",
    "            tp += 1\n",
    "        else:\n",
    "            fp += 1\n",
    "            \n",
    "    else:\n",
    "        if actual == 1:\n",
    "            fn += 1\n",
    "        else:\n",
    "            tn += 1"
   ]
  },
  {
   "cell_type": "code",
   "execution_count": 229,
   "metadata": {
    "ExecuteTime": {
     "end_time": "2020-02-25T23:03:18.986326Z",
     "start_time": "2020-02-25T23:03:18.979992Z"
    }
   },
   "outputs": [],
   "source": [
    "accuracy = (tp + tn) / (tp + fp + fn + tn)\n",
    "precision = tp / (tp + fp)\n",
    "recall = tp / (tp + fn)\n",
    "\n",
    "true_positive_rate = tp / (tp + fn)\n",
    "false_positive_rate = fp / (fp + tn)"
   ]
  },
  {
   "cell_type": "code",
   "execution_count": 237,
   "metadata": {
    "ExecuteTime": {
     "end_time": "2020-02-25T23:15:08.963947Z",
     "start_time": "2020-02-25T23:15:08.955010Z"
    }
   },
   "outputs": [
    {
     "name": "stdout",
     "output_type": "stream",
     "text": [
      "True positive: 2\n",
      "True negative: 4076\n",
      "False positive: 4\n",
      "False negative: 106\n",
      "\n",
      "True positive rate: 1.85%\n",
      "False positive rate: 0.10%\n",
      "\n",
      "Recall: 1.85%\n",
      "Precision: 33.33%\n"
     ]
    }
   ],
   "source": [
    "print('True positive:', tp)\n",
    "print('True negative:', tn)\n",
    "print('False positive:', fp)\n",
    "print('False negative:', fn)\n",
    "print()\n",
    "print('True positive rate: {:.2%}'.format(true_positive_rate))\n",
    "print('False positive rate: {:.2%}'.format(false_positive_rate))\n",
    "print()\n",
    "print('Recall: {:.2%}'.format(recall))\n",
    "print('Precision: {:.2%}'.format(precision))"
   ]
  },
  {
   "cell_type": "code",
   "execution_count": null,
   "metadata": {},
   "outputs": [],
   "source": []
  },
  {
   "cell_type": "code",
   "execution_count": 238,
   "metadata": {
    "ExecuteTime": {
     "end_time": "2020-02-25T23:15:36.276488Z",
     "start_time": "2020-02-25T23:15:36.270520Z"
    }
   },
   "outputs": [],
   "source": [
    "pr, re, thres = precision_recall_curve(Y_test, predictions[:, 1])"
   ]
  },
  {
   "cell_type": "code",
   "execution_count": 239,
   "metadata": {
    "ExecuteTime": {
     "end_time": "2020-02-25T23:15:37.575107Z",
     "start_time": "2020-02-25T23:15:37.433468Z"
    },
    "scrolled": true
   },
   "outputs": [
    {
     "data": {
      "text/plain": [
       "[<matplotlib.lines.Line2D at 0x20232a43708>]"
      ]
     },
     "execution_count": 239,
     "metadata": {},
     "output_type": "execute_result"
    },
    {
     "data": {
      "image/png": "[encoded data removed]",
      "text/plain": [
       "<Figure size 432x288 with 1 Axes>"
      ]
     },
     "metadata": {
      "needs_background": "light"
     },
     "output_type": "display_data"
    }
   ],
   "source": [
    "plt.xlabel('recall')\n",
    "plt.ylabel('precision')\n",
    "\n",
    "plt.plot(re, pr)"
   ]
  },
  {
   "cell_type": "code",
   "execution_count": null,
   "metadata": {},
   "outputs": [],
   "source": []
  },
  {
   "cell_type": "code",
   "execution_count": 240,
   "metadata": {
    "ExecuteTime": {
     "end_time": "2020-02-25T23:15:40.984046Z",
     "start_time": "2020-02-25T23:15:40.976091Z"
    }
   },
   "outputs": [],
   "source": [
    "# получаем значения false и true positive rate для различных значений порога\n",
    "fpr, tpr, thres = roc_curve( Y_test, predictions[:, 1] )"
   ]
  },
  {
   "cell_type": "code",
   "execution_count": 241,
   "metadata": {
    "ExecuteTime": {
     "end_time": "2020-02-25T23:15:41.746457Z",
     "start_time": "2020-02-25T23:15:41.617839Z"
    }
   },
   "outputs": [
    {
     "data": {
      "text/plain": [
       "[<matplotlib.lines.Line2D at 0x20232b42c48>]"
      ]
     },
     "execution_count": 241,
     "metadata": {},
     "output_type": "execute_result"
    },
    {
     "data": {
      "image/png": "[encoded data removed]",
      "text/plain": [
       "<Figure size 432x288 with 1 Axes>"
      ]
     },
     "metadata": {
      "needs_background": "light"
     },
     "output_type": "display_data"
    }
   ],
   "source": [
    "plt.xlabel('False Positive Rate')\n",
    "plt.ylabel('True Positive Rate')\n",
    "\n",
    "plt.plot(fpr, tpr)"
   ]
  },
  {
   "cell_type": "code",
   "execution_count": 242,
   "metadata": {
    "ExecuteTime": {
     "end_time": "2020-02-25T23:15:45.178836Z",
     "start_time": "2020-02-25T23:15:45.171240Z"
    }
   },
   "outputs": [
    {
     "data": {
      "text/plain": [
       "0.8796046659404503"
      ]
     },
     "execution_count": 242,
     "metadata": {},
     "output_type": "execute_result"
    }
   ],
   "source": [
    "roc_auc_score(Y_test, predictions[:, 1])"
   ]
  },
  {
   "cell_type": "code",
   "execution_count": 243,
   "metadata": {
    "ExecuteTime": {
     "end_time": "2020-02-25T23:15:45.787998Z",
     "start_time": "2020-02-25T23:15:45.782015Z"
    }
   },
   "outputs": [
    {
     "data": {
      "text/plain": [
       "0.8796046659404503"
      ]
     },
     "execution_count": 243,
     "metadata": {},
     "output_type": "execute_result"
    }
   ],
   "source": [
    "auc(fpr, tpr)"
   ]
  },
  {
   "cell_type": "code",
   "execution_count": null,
   "metadata": {},
   "outputs": [],
   "source": []
  },
  {
   "cell_type": "code",
   "execution_count": null,
   "metadata": {},
   "outputs": [],
   "source": []
  },
  {
   "cell_type": "code",
   "execution_count": null,
   "metadata": {},
   "outputs": [],
   "source": []
  },
  {
   "cell_type": "code",
   "execution_count": 115,
   "metadata": {
    "ExecuteTime": {
     "end_time": "2020-02-25T21:05:45.455026Z",
     "start_time": "2020-02-25T21:05:45.440069Z"
    }
   },
   "outputs": [],
   "source": [
    "# Function to generate Confusion matrix\n",
    "def confusion_matrix(actfail, predictfail):\n",
    "  # Compute Confusion matrix\n",
    "  print(\"Actual, Predicted Observations:  \",len(actfail), len(predictfail))\n",
    "  # print(actfail, predictfail)\n",
    "  anpn = 0\n",
    "  anpy = 0\n",
    "  aypn = 0\n",
    "  aypy = 0\n",
    "  \n",
    "  for i in range(len(actfail)):\n",
    "      if (actfail[i]==0 and predictfail[i]==0):\n",
    "          anpn = anpn + 1\n",
    "      elif (actfail[i]==0 and predictfail[i]==1):\n",
    "          anpy = anpy + 1\n",
    "      elif (actfail[i]==1 and predictfail[i]==0):\n",
    "          aypn = aypn + 1\n",
    "      else:\n",
    "          aypy = aypy + 1\n",
    "  # Confusoin matrix\n",
    "  print (\"--------------------------------------------\")\n",
    "  print (\"Confusion Matrix\")\n",
    "  print (\"--------------------------------------------\")\n",
    "  print (\"              \", \"Predicted N\", \"Predicted Y\")\n",
    "  print (\"Actual N      \", anpn,\"          \", anpy) \n",
    "  print (\"Actual Y      \", aypn,\"          \", aypy)\n",
    "  print (\"--------------------------------------------\")\n",
    "  print (\"Total observations  :  \", anpn+anpy+aypn+aypy)\n",
    "  print (\"False Positives     :  \", anpy)\n",
    "  print (\"False Negatives     :  \", aypn)\n",
    "  print (\"Overall Accuracy    :  \", round((float(anpn+aypy)/float(anpn+anpy+aypn+aypy))*100, 2), \"%\")\n",
    "  print (\"Sensitivity/Recall  :  \", round((float(aypy)/float(aypn+aypy))*100, 2), \"%\")\n",
    "  print (\"Specificity         :  \", round((float(anpn)/float(anpn+anpy))*100, 2), \"%\")\n",
    "  print (\"Precision           :  \", round((float(aypy)/float(anpy+aypy))*100, 2), \"%\")\n",
    "  print (\"--------------------------------------------\")"
   ]
  },
  {
   "cell_type": "code",
   "execution_count": 118,
   "metadata": {
    "ExecuteTime": {
     "end_time": "2020-02-25T21:07:29.935904Z",
     "start_time": "2020-02-25T21:07:29.931727Z"
    }
   },
   "outputs": [],
   "source": [
    "# Function to return Predicted values\n",
    "def score_data(trained_model, x_vals):\n",
    "    ypredict = trained_model.predict(x_vals)\n",
    "    return ypredict"
   ]
  },
  {
   "cell_type": "code",
   "execution_count": 119,
   "metadata": {
    "ExecuteTime": {
     "end_time": "2020-02-25T21:07:32.561065Z",
     "start_time": "2020-02-25T21:07:32.552869Z"
    }
   },
   "outputs": [],
   "source": [
    "actfail = Y_test.values\n",
    "predictfail = score_data(model, X_test)"
   ]
  },
  {
   "cell_type": "code",
   "execution_count": 120,
   "metadata": {
    "ExecuteTime": {
     "end_time": "2020-02-25T21:07:35.413819Z",
     "start_time": "2020-02-25T21:07:35.401922Z"
    }
   },
   "outputs": [
    {
     "name": "stdout",
     "output_type": "stream",
     "text": [
      "Actual, Predicted Observations:   4188 4188\n",
      "--------------------------------------------\n",
      "Confusion Matrix\n",
      "--------------------------------------------\n",
      "               Predicted N Predicted Y\n",
      "Actual N       4072            3\n",
      "Actual Y       110            3\n",
      "--------------------------------------------\n",
      "Total observations  :   4188\n",
      "False Positives     :   3\n",
      "False Negatives     :   110\n",
      "Overall Accuracy    :   97.3 %\n",
      "Sensitivity/Recall  :   2.65 %\n",
      "Specificity         :   99.93 %\n",
      "Precision           :   50.0 %\n",
      "--------------------------------------------\n"
     ]
    }
   ],
   "source": [
    "confusion_matrix(actfail, predictfail)"
   ]
  },
  {
   "cell_type": "code",
   "execution_count": null,
   "metadata": {},
   "outputs": [],
   "source": []
  }
 ],
 "metadata": {
  "kernelspec": {
   "display_name": "Python 3",
   "language": "python",
   "name": "python3"
  },
  "language_info": {
   "codemirror_mode": {
    "name": "ipython",
    "version": 3
   },
   "file_extension": ".py",
   "mimetype": "text/x-python",
   "name": "python",
   "nbconvert_exporter": "python",
   "pygments_lexer": "ipython3",
   "version": "3.7.4"
  },
  "toc": {
   "base_numbering": 1,
   "nav_menu": {
    "height": "253px",
    "width": "368px"
   },
   "number_sections": true,
   "sideBar": true,
   "skip_h1_title": false,
   "title_cell": "Table of Contents",
   "title_sidebar": "Contents",
   "toc_cell": false,
   "toc_position": {},
   "toc_section_display": true,
   "toc_window_display": true
  }
 },
 "nbformat": 4,
 "nbformat_minor": 2
}
